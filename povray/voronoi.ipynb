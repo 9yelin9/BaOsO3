{
 "cells": [
  {
   "cell_type": "code",
   "execution_count": 2,
   "id": "22e00369",
   "metadata": {},
   "outputs": [],
   "source": [
    "import numpy as np\n",
    "import matplotlib.pyplot as plt\n",
    "from scipy.spatial import Voronoi\n",
    "\n",
    "class Brillouin:\n",
    "    def __init__(self, avec):\n",
    "        self.avec = np.array(avec)\n",
    "        self.dim = len(avec)\n",
    "        self.bvec = self.get_bvec()\n",
    "\n",
    "    def get_bvec(self):\n",
    "        return np.linalg.inv(self.avec).T\n",
    "    \n",
    "    def show(self):\n",
    "        print(\"avec\", self.avec)\n",
    "        print(\"bvec\", self.bvec)\n",
    "\n",
    "    def plot_bz(self, myvec=None):\n",
    "        if myvec == None:\n",
    "            myvec = self.bvec\n",
    "        fig = plt.figure()\n",
    "\n",
    "        if self.dim == 2:\n",
    "            px, py = np.tensordot(myvec[:2,:2], np.mgrid[-1:2, -1:2], axes=[0,0])\n",
    "            points = np.c_[px.ravel(), py.ravel()]\n",
    "            ax = fig.add_subplot(aspect='equal')\n",
    "\n",
    "        else:\n",
    "            px, py, pz = np.tensordot(myvec, np.mgrid[-1:2, -1:2, -1:2], axes=[0,0])\n",
    "            points = np.c_[px.ravel(), py.ravel(), pz.ravel()]\n",
    "            ax = fig.add_subplot(projection='3d')\n",
    "\n",
    "        self.radius = np.max( [np.linalg.norm(b) for b in myvec] )\n",
    "        points = [pts for pts in points if np.linalg.norm(pts) < 1.5 * self.radius]\n",
    "        vor = Voronoi(points)\n",
    "        #print('points', vor.points)         \n",
    "        #print('ridge_points', vor.ridge_points)\n",
    "        #print('ridge_vertices', vor.ridge_vertices)\n",
    "        #print('vertices', vor.vertices)\n",
    "\n",
    "        for pt in vor.vertices:\n",
    "            ax.scatter(*pt, color='black')\n",
    "        for pt in vor.points:\n",
    "            ax.scatter(*pt, color='blue')\n",
    "\n",
    "        for pairs in vor.ridge_vertices:\n",
    "            if -1 not in pairs:\n",
    "                mypair = pairs.copy()\n",
    "            if len(mypair) > 2:\n",
    "                mypair.append(mypair[0])\n",
    "            pts = np.c_[ vor.vertices[mypair].T ]\n",
    "            ax.plot(*pts, color='black') # *pts = pts[0], pts[1], pts[2]\n",
    "        return ax, vor"
   ]
  },
  {
   "cell_type": "code",
   "execution_count": null,
   "id": "febfe774",
   "metadata": {},
   "outputs": [],
   "source": []
  }
 ],
 "metadata": {
  "kernelspec": {
   "display_name": "Python 3 (ipykernel)",
   "language": "python",
   "name": "python3"
  },
  "language_info": {
   "codemirror_mode": {
    "name": "ipython",
    "version": 3
   },
   "file_extension": ".py",
   "mimetype": "text/x-python",
   "name": "python",
   "nbconvert_exporter": "python",
   "pygments_lexer": "ipython3",
   "version": "3.9.10"
  },
  "toc": {
   "base_numbering": 1,
   "nav_menu": {},
   "number_sections": true,
   "sideBar": true,
   "skip_h1_title": false,
   "title_cell": "Table of Contents",
   "title_sidebar": "Contents",
   "toc_cell": false,
   "toc_position": {},
   "toc_section_display": true,
   "toc_window_display": false
  }
 },
 "nbformat": 4,
 "nbformat_minor": 5
}
